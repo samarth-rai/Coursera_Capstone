{
 "cells": [
  {
   "cell_type": "markdown",
   "id": "8be6eef3-131f-45c0-8670-f8424250e4b2",
   "metadata": {},
   "source": [
    "# Coursera Capstone Week #3 - Clustering Neighborhoods in Toronto"
   ]
  },
  {
   "cell_type": "markdown",
   "id": "20168fa7-7dec-4497-9c72-f162ccba81d8",
   "metadata": {},
   "source": [
    "First, I'm importing all the required libraries"
   ]
  },
  {
   "cell_type": "code",
   "execution_count": 40,
   "id": "75450dcf-d414-43a4-98c4-b60476f13361",
   "metadata": {},
   "outputs": [],
   "source": [
    "from bs4 import BeautifulSoup as bsp\n",
    "import requests as req\n",
    "import pandas as pd"
   ]
  },
  {
   "cell_type": "code",
   "execution_count": 41,
   "id": "0f8963ff-bcc9-4dfa-a31d-370d7b8707a4",
   "metadata": {},
   "outputs": [],
   "source": [
    "url = 'https://en.wikipedia.org/wiki/List_of_postal_codes_of_Canada:_M'\n",
    "page = req.get(url)"
   ]
  },
  {
   "cell_type": "code",
   "execution_count": 42,
   "id": "d0ba3336-45d2-44b1-a6ab-2d6b25b78c3e",
   "metadata": {},
   "outputs": [],
   "source": [
    "soup = bsp(page.text, 'html.parser')\n",
    "table = soup.find('table')"
   ]
  },
  {
   "cell_type": "markdown",
   "id": "f9942936-caf4-4222-8e0e-918dd29c3f85",
   "metadata": {},
   "source": [
    "# Scraping the data from the table and formatting it\n",
    "Here I use bs4 to scrape the table and sort it into a "
   ]
  },
  {
   "cell_type": "code",
   "execution_count": 43,
   "id": "516996f5-3fd7-4e5d-b3fd-9780fdc4b215",
   "metadata": {},
   "outputs": [],
   "source": [
    "table_contents=[]\n",
    "for data in table.findAll('td'):\n",
    "    cell = {}\n",
    "    if data.span.text == \"Not assigned\":\n",
    "        pass\n",
    "    else:\n",
    "        cell['Postal Code']= data.p.text[:3]\n",
    "        cell['Borough'] = (data.span.text).split('(')[0]\n",
    "        cell['Neighborhood'] = (((((data.span.text).split('(')[1]).strip(')')).replace(' /',',')).replace(')',' ')).strip(' ')\n",
    "        table_contents.append(cell)\n"
   ]
  },
  {
   "cell_type": "markdown",
   "id": "71999765-2651-4a32-9b70-93b9ed6f7f85",
   "metadata": {},
   "source": [
    "### Converting into dataframe\n",
    "Next, I'm going to convert this table into a dataframe"
   ]
  },
  {
   "cell_type": "code",
   "execution_count": 44,
   "id": "db121878-928e-49fe-8028-4781d0c9bcd4",
   "metadata": {},
   "outputs": [
    {
     "data": {
      "text/html": [
       "<div>\n",
       "<style scoped>\n",
       "    .dataframe tbody tr th:only-of-type {\n",
       "        vertical-align: middle;\n",
       "    }\n",
       "\n",
       "    .dataframe tbody tr th {\n",
       "        vertical-align: top;\n",
       "    }\n",
       "\n",
       "    .dataframe thead th {\n",
       "        text-align: right;\n",
       "    }\n",
       "</style>\n",
       "<table border=\"1\" class=\"dataframe\">\n",
       "  <thead>\n",
       "    <tr style=\"text-align: right;\">\n",
       "      <th></th>\n",
       "      <th>Postal Code</th>\n",
       "      <th>Borough</th>\n",
       "      <th>Neighborhood</th>\n",
       "    </tr>\n",
       "  </thead>\n",
       "  <tbody>\n",
       "    <tr>\n",
       "      <th>0</th>\n",
       "      <td>M3A</td>\n",
       "      <td>North York</td>\n",
       "      <td>Parkwoods</td>\n",
       "    </tr>\n",
       "    <tr>\n",
       "      <th>1</th>\n",
       "      <td>M4A</td>\n",
       "      <td>North York</td>\n",
       "      <td>Victoria Village</td>\n",
       "    </tr>\n",
       "    <tr>\n",
       "      <th>2</th>\n",
       "      <td>M5A</td>\n",
       "      <td>Downtown Toronto</td>\n",
       "      <td>Regent Park, Harbourfront</td>\n",
       "    </tr>\n",
       "    <tr>\n",
       "      <th>3</th>\n",
       "      <td>M6A</td>\n",
       "      <td>North York</td>\n",
       "      <td>Lawrence Manor, Lawrence Heights</td>\n",
       "    </tr>\n",
       "    <tr>\n",
       "      <th>4</th>\n",
       "      <td>M7A</td>\n",
       "      <td>Queen's Park</td>\n",
       "      <td>Ontario Provincial Government</td>\n",
       "    </tr>\n",
       "  </tbody>\n",
       "</table>\n",
       "</div>"
      ],
      "text/plain": [
       "  Postal Code           Borough                      Neighborhood\n",
       "0         M3A        North York                         Parkwoods\n",
       "1         M4A        North York                  Victoria Village\n",
       "2         M5A  Downtown Toronto         Regent Park, Harbourfront\n",
       "3         M6A        North York  Lawrence Manor, Lawrence Heights\n",
       "4         M7A      Queen's Park     Ontario Provincial Government"
      ]
     },
     "execution_count": 44,
     "metadata": {},
     "output_type": "execute_result"
    }
   ],
   "source": [
    "df = pd.DataFrame(table_contents)\n",
    "df.head()"
   ]
  },
  {
   "cell_type": "markdown",
   "id": "ebb7f2a4-1add-453d-98f1-5ad53685f879",
   "metadata": {},
   "source": [
    "## Next steps\n",
    "Now that we have our data in a dataframe, everything is almost complete.\n",
    "Although, we do have to remove one postal code because according to Wikipedia, <u>Postal code M7R is not included in the city of Toronto</u>"
   ]
  },
  {
   "cell_type": "code",
   "execution_count": 45,
   "id": "e2894e11-6867-42c2-a968-d3670de226f8",
   "metadata": {},
   "outputs": [],
   "source": [
    "df.drop(df.loc[df['Postal Code']=='M7R'].index, inplace=True)"
   ]
  },
  {
   "cell_type": "code",
   "execution_count": 46,
   "id": "544a435f-9bc8-4700-b0ea-9dd8f17e3069",
   "metadata": {},
   "outputs": [
    {
     "data": {
      "text/plain": [
       "(102, 3)"
      ]
     },
     "execution_count": 46,
     "metadata": {},
     "output_type": "execute_result"
    }
   ],
   "source": [
    "df.shape"
   ]
  }
 ],
 "metadata": {
  "kernelspec": {
   "display_name": "Python 3",
   "language": "python",
   "name": "python3"
  },
  "language_info": {
   "codemirror_mode": {
    "name": "ipython",
    "version": 3
   },
   "file_extension": ".py",
   "mimetype": "text/x-python",
   "name": "python",
   "nbconvert_exporter": "python",
   "pygments_lexer": "ipython3",
   "version": "3.8.8"
  }
 },
 "nbformat": 4,
 "nbformat_minor": 5
}
