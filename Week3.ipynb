{
 "cells": [
  {
   "cell_type": "markdown",
   "id": "8be6eef3-131f-45c0-8670-f8424250e4b2",
   "metadata": {},
   "source": [
    "# Coursera Capstone Week #3 - Clustering Neighborhoods in Toronto"
   ]
  },
  {
   "cell_type": "markdown",
   "id": "20168fa7-7dec-4497-9c72-f162ccba81d8",
   "metadata": {},
   "source": [
    "First, I'm importing all the required libraries"
   ]
  },
  {
   "cell_type": "code",
   "execution_count": 10,
   "id": "75450dcf-d414-43a4-98c4-b60476f13361",
   "metadata": {},
   "outputs": [],
   "source": [
    "from bs4 import BeautifulSoup as bsp\n",
    "import requests as req\n",
    "import pandas as pd\n",
    "import geocoder\n",
    "import os"
   ]
  },
  {
   "cell_type": "code",
   "execution_count": 11,
   "id": "0f8963ff-bcc9-4dfa-a31d-370d7b8707a4",
   "metadata": {},
   "outputs": [],
   "source": [
    "url = 'https://en.wikipedia.org/wiki/List_of_postal_codes_of_Canada:_M'\n",
    "page = req.get(url)"
   ]
  },
  {
   "cell_type": "code",
   "execution_count": 12,
   "id": "d0ba3336-45d2-44b1-a6ab-2d6b25b78c3e",
   "metadata": {},
   "outputs": [],
   "source": [
    "soup = bsp(page.text, 'html.parser')\n",
    "table = soup.find('table')"
   ]
  },
  {
   "cell_type": "markdown",
   "id": "f9942936-caf4-4222-8e0e-918dd29c3f85",
   "metadata": {},
   "source": [
    "# Scraping the data from the table and formatting it\n",
    "Here I use bs4 to scrape the table and sort it into a "
   ]
  },
  {
   "cell_type": "code",
   "execution_count": 13,
   "id": "516996f5-3fd7-4e5d-b3fd-9780fdc4b215",
   "metadata": {},
   "outputs": [],
   "source": [
    "table_contents=[]\n",
    "for data in table.findAll('td'):\n",
    "    cell = {}\n",
    "    if data.span.text == \"Not assigned\":\n",
    "        pass\n",
    "    else:\n",
    "        cell['Postal Code']= data.p.text[:3]\n",
    "        cell['Borough'] = (data.span.text).split('(')[0]\n",
    "        cell['Neighborhood'] = (((((data.span.text).split('(')[1]).strip(')')).replace(' /',',')).replace(')',' ')).strip(' ')\n",
    "        table_contents.append(cell)\n"
   ]
  },
  {
   "cell_type": "markdown",
   "id": "71999765-2651-4a32-9b70-93b9ed6f7f85",
   "metadata": {},
   "source": [
    "### Converting into dataframe\n",
    "Next, I'm going to convert this table into a dataframe"
   ]
  },
  {
   "cell_type": "code",
   "execution_count": 14,
   "id": "db121878-928e-49fe-8028-4781d0c9bcd4",
   "metadata": {},
   "outputs": [
    {
     "data": {
      "text/html": [
       "<div>\n",
       "<style scoped>\n",
       "    .dataframe tbody tr th:only-of-type {\n",
       "        vertical-align: middle;\n",
       "    }\n",
       "\n",
       "    .dataframe tbody tr th {\n",
       "        vertical-align: top;\n",
       "    }\n",
       "\n",
       "    .dataframe thead th {\n",
       "        text-align: right;\n",
       "    }\n",
       "</style>\n",
       "<table border=\"1\" class=\"dataframe\">\n",
       "  <thead>\n",
       "    <tr style=\"text-align: right;\">\n",
       "      <th></th>\n",
       "      <th>Postal Code</th>\n",
       "      <th>Borough</th>\n",
       "      <th>Neighborhood</th>\n",
       "    </tr>\n",
       "  </thead>\n",
       "  <tbody>\n",
       "    <tr>\n",
       "      <th>0</th>\n",
       "      <td>M3A</td>\n",
       "      <td>North York</td>\n",
       "      <td>Parkwoods</td>\n",
       "    </tr>\n",
       "    <tr>\n",
       "      <th>1</th>\n",
       "      <td>M4A</td>\n",
       "      <td>North York</td>\n",
       "      <td>Victoria Village</td>\n",
       "    </tr>\n",
       "    <tr>\n",
       "      <th>2</th>\n",
       "      <td>M5A</td>\n",
       "      <td>Downtown Toronto</td>\n",
       "      <td>Regent Park, Harbourfront</td>\n",
       "    </tr>\n",
       "    <tr>\n",
       "      <th>3</th>\n",
       "      <td>M6A</td>\n",
       "      <td>North York</td>\n",
       "      <td>Lawrence Manor, Lawrence Heights</td>\n",
       "    </tr>\n",
       "    <tr>\n",
       "      <th>4</th>\n",
       "      <td>M7A</td>\n",
       "      <td>Queen's Park</td>\n",
       "      <td>Ontario Provincial Government</td>\n",
       "    </tr>\n",
       "  </tbody>\n",
       "</table>\n",
       "</div>"
      ],
      "text/plain": [
       "  Postal Code           Borough                      Neighborhood\n",
       "0         M3A        North York                         Parkwoods\n",
       "1         M4A        North York                  Victoria Village\n",
       "2         M5A  Downtown Toronto         Regent Park, Harbourfront\n",
       "3         M6A        North York  Lawrence Manor, Lawrence Heights\n",
       "4         M7A      Queen's Park     Ontario Provincial Government"
      ]
     },
     "execution_count": 14,
     "metadata": {},
     "output_type": "execute_result"
    }
   ],
   "source": [
    "df = pd.DataFrame(table_contents)\n",
    "df.head()"
   ]
  },
  {
   "cell_type": "markdown",
   "id": "ebb7f2a4-1add-453d-98f1-5ad53685f879",
   "metadata": {},
   "source": [
    "## Next steps\n",
    "Now that we have our data in a dataframe, everything is almost complete.\n",
    "Although, we do have to remove one postal code because according to Wikipedia, <u>Postal code M7R is not included in the city of Toronto</u>"
   ]
  },
  {
   "cell_type": "code",
   "execution_count": 15,
   "id": "e2894e11-6867-42c2-a968-d3670de226f8",
   "metadata": {},
   "outputs": [],
   "source": [
    "df.drop(df.loc[df['Postal Code']=='M7R'].index, inplace=True)"
   ]
  },
  {
   "cell_type": "code",
   "execution_count": 16,
   "id": "544a435f-9bc8-4700-b0ea-9dd8f17e3069",
   "metadata": {},
   "outputs": [
    {
     "data": {
      "text/plain": [
       "(102, 3)"
      ]
     },
     "execution_count": 16,
     "metadata": {},
     "output_type": "execute_result"
    }
   ],
   "source": [
    "df.shape"
   ]
  },
  {
   "cell_type": "code",
   "execution_count": 17,
   "id": "ce33d4be-335e-491b-a9b7-3177465e5bba",
   "metadata": {},
   "outputs": [
    {
     "data": {
      "text/html": [
       "<div>\n",
       "<style scoped>\n",
       "    .dataframe tbody tr th:only-of-type {\n",
       "        vertical-align: middle;\n",
       "    }\n",
       "\n",
       "    .dataframe tbody tr th {\n",
       "        vertical-align: top;\n",
       "    }\n",
       "\n",
       "    .dataframe thead th {\n",
       "        text-align: right;\n",
       "    }\n",
       "</style>\n",
       "<table border=\"1\" class=\"dataframe\">\n",
       "  <thead>\n",
       "    <tr style=\"text-align: right;\">\n",
       "      <th></th>\n",
       "      <th>Postal Code</th>\n",
       "      <th>Borough</th>\n",
       "      <th>Neighborhood</th>\n",
       "    </tr>\n",
       "  </thead>\n",
       "  <tbody>\n",
       "    <tr>\n",
       "      <th>0</th>\n",
       "      <td>M3A</td>\n",
       "      <td>North York</td>\n",
       "      <td>Parkwoods</td>\n",
       "    </tr>\n",
       "    <tr>\n",
       "      <th>1</th>\n",
       "      <td>M4A</td>\n",
       "      <td>North York</td>\n",
       "      <td>Victoria Village</td>\n",
       "    </tr>\n",
       "    <tr>\n",
       "      <th>2</th>\n",
       "      <td>M5A</td>\n",
       "      <td>Downtown Toronto</td>\n",
       "      <td>Regent Park, Harbourfront</td>\n",
       "    </tr>\n",
       "    <tr>\n",
       "      <th>3</th>\n",
       "      <td>M6A</td>\n",
       "      <td>North York</td>\n",
       "      <td>Lawrence Manor, Lawrence Heights</td>\n",
       "    </tr>\n",
       "    <tr>\n",
       "      <th>4</th>\n",
       "      <td>M7A</td>\n",
       "      <td>Queen's Park</td>\n",
       "      <td>Ontario Provincial Government</td>\n",
       "    </tr>\n",
       "  </tbody>\n",
       "</table>\n",
       "</div>"
      ],
      "text/plain": [
       "  Postal Code           Borough                      Neighborhood\n",
       "0         M3A        North York                         Parkwoods\n",
       "1         M4A        North York                  Victoria Village\n",
       "2         M5A  Downtown Toronto         Regent Park, Harbourfront\n",
       "3         M6A        North York  Lawrence Manor, Lawrence Heights\n",
       "4         M7A      Queen's Park     Ontario Provincial Government"
      ]
     },
     "execution_count": 17,
     "metadata": {},
     "output_type": "execute_result"
    }
   ],
   "source": [
    "df.head()"
   ]
  },
  {
   "cell_type": "markdown",
   "id": "7389537d-f819-42cb-a124-2aded79f331d",
   "metadata": {},
   "source": [
    " # <strike> Using Geocoder </strike>\n",
    "<strike> Now, we're going to import the geocoder library and use it to assign latitude and longitudes to the neighborhoodsimport geocoder # import geocoderimport geocoder # import geocoder </strike>\n",
    "    \n",
    "    \n",
    " # Using Weather API\n",
    " \n",
    " Since Geocoder seemed to be down for whatever reason, I'm going to be using the weather API\n",
    " \n"
   ]
  },
  {
   "cell_type": "code",
   "execution_count": 20,
   "id": "31ea18a2-43da-428f-aaab-54e13dfb85c2",
   "metadata": {},
   "outputs": [],
   "source": [
    "# I've set my api key as an environment variable and will load it now\n",
    "key = os.environ.get('WEATHER_API_KEY')"
   ]
  },
  {
   "cell_type": "code",
   "execution_count": 48,
   "id": "bd151f32-b4a3-4f4f-a955-7db91864910d",
   "metadata": {},
   "outputs": [],
   "source": [
    "def getLatLong(postal_code):\n",
    "    latlong=[0,0]\n",
    "    url = 'http://api.weatherapi.com/v1/current.xml?key={}&q={}'.format(key,postal_code)\n",
    "    page = req.get(url)\n",
    "    soup = bsp(page.text,'xml')\n",
    "    latlong[0]=soup.find('lat').text\n",
    "    latlong[1]=soup.find('lon').text\n",
    "    return latlong\n",
    "    "
   ]
  },
  {
   "cell_type": "code",
   "execution_count": 54,
   "id": "40a85ccd-8b4d-4a73-a19d-e6de4eebc5d1",
   "metadata": {},
   "outputs": [],
   "source": [
    "for postal_code in df['Postal Code']:\n",
    "    latlong = getLatLong(postal_code)\n",
    "    df.loc[df['Postal Code']==postal_code,'Latitude']=latlong[0]\n",
    "    df.loc[df['Postal Code']==postal_code,'Longitude']=latlong[1]\n",
    "    "
   ]
  },
  {
   "cell_type": "code",
   "execution_count": 55,
   "id": "498d28e8-0ead-4a10-ac6d-fe03f807959d",
   "metadata": {},
   "outputs": [
    {
     "data": {
      "text/html": [
       "<div>\n",
       "<style scoped>\n",
       "    .dataframe tbody tr th:only-of-type {\n",
       "        vertical-align: middle;\n",
       "    }\n",
       "\n",
       "    .dataframe tbody tr th {\n",
       "        vertical-align: top;\n",
       "    }\n",
       "\n",
       "    .dataframe thead th {\n",
       "        text-align: right;\n",
       "    }\n",
       "</style>\n",
       "<table border=\"1\" class=\"dataframe\">\n",
       "  <thead>\n",
       "    <tr style=\"text-align: right;\">\n",
       "      <th></th>\n",
       "      <th>Postal Code</th>\n",
       "      <th>Borough</th>\n",
       "      <th>Neighborhood</th>\n",
       "      <th>Latitude</th>\n",
       "      <th>Longitude</th>\n",
       "    </tr>\n",
       "  </thead>\n",
       "  <tbody>\n",
       "    <tr>\n",
       "      <th>0</th>\n",
       "      <td>M3A</td>\n",
       "      <td>North York</td>\n",
       "      <td>Parkwoods</td>\n",
       "      <td>43.76</td>\n",
       "      <td>-79.32</td>\n",
       "    </tr>\n",
       "    <tr>\n",
       "      <th>1</th>\n",
       "      <td>M4A</td>\n",
       "      <td>North York</td>\n",
       "      <td>Victoria Village</td>\n",
       "      <td>43.73</td>\n",
       "      <td>-79.31</td>\n",
       "    </tr>\n",
       "    <tr>\n",
       "      <th>2</th>\n",
       "      <td>M5A</td>\n",
       "      <td>Downtown Toronto</td>\n",
       "      <td>Regent Park, Harbourfront</td>\n",
       "      <td>43.66</td>\n",
       "      <td>-79.37</td>\n",
       "    </tr>\n",
       "    <tr>\n",
       "      <th>3</th>\n",
       "      <td>M6A</td>\n",
       "      <td>North York</td>\n",
       "      <td>Lawrence Manor, Lawrence Heights</td>\n",
       "      <td>43.72</td>\n",
       "      <td>-79.45</td>\n",
       "    </tr>\n",
       "    <tr>\n",
       "      <th>4</th>\n",
       "      <td>M7A</td>\n",
       "      <td>Queen's Park</td>\n",
       "      <td>Ontario Provincial Government</td>\n",
       "      <td>43.66</td>\n",
       "      <td>-79.39</td>\n",
       "    </tr>\n",
       "  </tbody>\n",
       "</table>\n",
       "</div>"
      ],
      "text/plain": [
       "  Postal Code           Borough                      Neighborhood Latitude  \\\n",
       "0         M3A        North York                         Parkwoods    43.76   \n",
       "1         M4A        North York                  Victoria Village    43.73   \n",
       "2         M5A  Downtown Toronto         Regent Park, Harbourfront    43.66   \n",
       "3         M6A        North York  Lawrence Manor, Lawrence Heights    43.72   \n",
       "4         M7A      Queen's Park     Ontario Provincial Government    43.66   \n",
       "\n",
       "  Longitude  \n",
       "0    -79.32  \n",
       "1    -79.31  \n",
       "2    -79.37  \n",
       "3    -79.45  \n",
       "4    -79.39  "
      ]
     },
     "execution_count": 55,
     "metadata": {},
     "output_type": "execute_result"
    }
   ],
   "source": [
    "df.head()"
   ]
  },
  {
   "cell_type": "code",
   "execution_count": null,
   "id": "7d60c1f3-0246-4b73-a25e-3ce86310045e",
   "metadata": {},
   "outputs": [],
   "source": []
  },
  {
   "cell_type": "code",
   "execution_count": null,
   "id": "c79360e8-2ce9-4bf0-aa40-37b2b4951d3e",
   "metadata": {},
   "outputs": [],
   "source": []
  }
 ],
 "metadata": {
  "kernelspec": {
   "display_name": "Python 3",
   "language": "python",
   "name": "python3"
  },
  "language_info": {
   "codemirror_mode": {
    "name": "ipython",
    "version": 3
   },
   "file_extension": ".py",
   "mimetype": "text/x-python",
   "name": "python",
   "nbconvert_exporter": "python",
   "pygments_lexer": "ipython3",
   "version": "3.8.8"
  }
 },
 "nbformat": 4,
 "nbformat_minor": 5
}
